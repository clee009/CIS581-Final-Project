{
 "cells": [
  {
   "cell_type": "code",
   "execution_count": 1,
   "metadata": {},
   "outputs": [
    {
     "name": "stderr",
     "output_type": "stream",
     "text": [
      "C:\\Users\\justi\\AppData\\Local\\Packages\\PythonSoftwareFoundation.Python.3.11_qbz5n2kfra8p0\\LocalCache\\local-packages\\Python311\\site-packages\\tqdm\\auto.py:21: TqdmWarning: IProgress not found. Please update jupyter and ipywidgets. See https://ipywidgets.readthedocs.io/en/stable/user_install.html\n",
      "  from .autonotebook import tqdm as notebook_tqdm\n"
     ]
    }
   ],
   "source": [
    "import gradio as gr\n",
    "# from hf_samdino import process_video\n",
    "from zoom import zoom_save_gif"
   ]
  },
  {
   "cell_type": "code",
   "execution_count": 5,
   "metadata": {},
   "outputs": [],
   "source": [
    "# Define a function to process the input list\n",
    "def process_list(input_text):\n",
    "    # Split input by commas and strip whitespace\n",
    "    string_list = [item.strip() for item in input_text.split(\",\") if item.strip()]\n",
    "    return string_list\n",
    "\n",
    "def gradio_process_video(video_file, detector, box_threshold_1, box_threshold_2, \n",
    "                         text_threshold_1, text_threshold_2, \n",
    "                         confidence, iou_threshold, \n",
    "                         frame_len, frame_stride, gif_duration,\n",
    "                         use_prior_data, use_pose,\n",
    "                         out_file, fps, selected_ids, selected_labels, nearest_to_ball,\n",
    "                         x_padding, y_padding, x_interp, y_interp, zoom_interp):\n",
    "    box_thresholds = [box_threshold_1, box_threshold_2]\n",
    "    text_thresholds = [text_threshold_1, text_threshold_2]\n",
    "    if not use_prior_data:\n",
    "        # process_video(video_path=video_file,\n",
    "        #                     detector=detector,\n",
    "        #                     dino_box_thresholds=box_thresholds,\n",
    "        #                     dino_text_thresholds=text_thresholds,\n",
    "        #                     yolo_confidence=confidence,\n",
    "        #                     yolo_iou_threshold=iou_threshold,\n",
    "        #                     frame_len=frame_len,\n",
    "        #                     frame_stride=frame_stride,\n",
    "        #                     gif_duration=gif_duration)\n",
    "        ...\n",
    "    \n",
    "    if use_pose and not use_prior_data:\n",
    "        # TODO: Her pose part\n",
    "        ...\n",
    "\n",
    "    selected_ids = process_list(selected_ids)\n",
    "    selected_labels = process_list(selected_labels)\n",
    "\n",
    "    return zoom_save_gif(out_file, use_pose, fps, selected_ids, selected_labels, nearest_to_ball,\n",
    "                         x_padding, y_padding, x_interp, y_interp, zoom_interp)"
   ]
  },
  {
   "cell_type": "code",
   "execution_count": 6,
   "metadata": {},
   "outputs": [
    {
     "name": "stdout",
     "output_type": "stream",
     "text": [
      "* Running on local URL:  http://127.0.0.1:7860\n",
      "\n",
      "Could not create share link. Please check your internet connection or our status page: https://status.gradio.app.\n"
     ]
    },
    {
     "data": {
      "text/html": [
       "<div><iframe src=\"http://127.0.0.1:7860/\" width=\"100%\" height=\"500\" allow=\"autoplay; camera; microphone; clipboard-read; clipboard-write;\" frameborder=\"0\" allowfullscreen></iframe></div>"
      ],
      "text/plain": [
       "<IPython.core.display.HTML object>"
      ]
     },
     "metadata": {},
     "output_type": "display_data"
    },
    {
     "data": {
      "text/plain": []
     },
     "execution_count": 6,
     "metadata": {},
     "output_type": "execute_result"
    }
   ],
   "source": [
    "iface = gr.Interface(\n",
    "    fn=gradio_process_video,\n",
    "    inputs=[\n",
    "        gr.Video(label=\"Upload Video\"),\n",
    "        gr.Radio(choices=[\"Grounding DINO\", \"YOLO\"], label=\"Choose a detector\"),\n",
    "        gr.Slider(0, 1, value=0.35, step=0.05, label=\"Box Threshold (DINO): Player/Referee\"),\n",
    "        gr.Slider(0, 1, value=0.35, step=0.05, label=\"Box Threshold (DINO): Basketball\"),\n",
    "        gr.Slider(0, 1, value=0.35, step=0.05, label=\"Text Threshold (DINO): Player/Referee\"),\n",
    "        gr.Slider(0, 1, value=0.35, step=0.05, label=\"Text Threshold (DINO): Basketball\"),\n",
    "        gr.Slider(0, 1, value=0.4, step=0.05, label=\"Confidence (YOLO)\"),\n",
    "        gr.Slider(0, 1, value=0.8, step=0.05, label=\"IOU Threshold (YOLO)\"),\n",
    "        gr.Slider(1, 500, value=100, step=1, label=\"Frame Length\"),\n",
    "        gr.Slider(1, 50, value=3, step=1, label=\"Frame Stride\"),\n",
    "        gr.Slider(1, 500, value=100, step=1, label=\"GIF Duration\"),\n",
    "        gr.Checkbox(label=\"Use Previous Data\"),\n",
    "        gr.Checkbox(label=\"Use Pose Data\"),\n",
    "        gr.Textbox(placeholder=\"Out Filename\"),\n",
    "        gr.Slider(1, 60, value=12, step=1, label=\"FPS\"),\n",
    "        gr.Textbox(placeholder=\"IDs Targeted (seperated by commas)\"),\n",
    "        gr.Textbox(placeholder=\"Labels Targeted (seperated by commas)\"),\n",
    "        gr.Slider(0, 10, value=0, step=1, label=\"Closest to Ball\"),\n",
    "        gr.Slider(1, 100, value=10, step=1, label=\"X Padding\"),\n",
    "        gr.Slider(1, 100, value=10, step=1, label=\"Y Padding\"),\n",
    "        gr.Slider(0, 1, value=0.5, step=0.05, label=\"X Interpolation\"),\n",
    "        gr.Slider(0, 1, value=0.5, step=0.05, label=\"Y Interpolation\"),\n",
    "        gr.Slider(0, 1, value=0.5, step=0.05, label=\"Zoom Interpolation\"),\n",
    "    ],\n",
    "    outputs=[gr.Image(type=\"filepath\")],\n",
    "    title=\"Segment Video\",\n",
    "    description=\"Upload a video and get back a segmented GIF.\",\n",
    ")\n",
    "\n",
    "iface.launch(share=True)\n"
   ]
  }
 ],
 "metadata": {
  "kernelspec": {
   "display_name": "Python 3",
   "language": "python",
   "name": "python3"
  },
  "language_info": {
   "codemirror_mode": {
    "name": "ipython",
    "version": 3
   },
   "file_extension": ".py",
   "mimetype": "text/x-python",
   "name": "python",
   "nbconvert_exporter": "python",
   "pygments_lexer": "ipython3",
   "version": "3.11.9"
  }
 },
 "nbformat": 4,
 "nbformat_minor": 2
}
