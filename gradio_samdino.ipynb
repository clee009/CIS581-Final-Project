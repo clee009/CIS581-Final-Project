{
 "cells": [
  {
   "cell_type": "code",
   "execution_count": 1,
   "metadata": {},
   "outputs": [],
   "source": [
    "import gradio as gr\n",
    "from hf_samdino import process_video"
   ]
  },
  {
   "cell_type": "code",
   "execution_count": 2,
   "metadata": {},
   "outputs": [],
   "source": [
    "def gradio_process_video(video_file, detector, box_threshold_1, box_threshold_2, \n",
    "                         text_threshold_1, text_threshold_2, \n",
    "                         confidence, iou_threshold, \n",
    "                         frame_len, frame_stride, gif_duration):\n",
    "    box_thresholds = [box_threshold_1, box_threshold_2]\n",
    "    text_thresholds = [text_threshold_1, text_threshold_2]\n",
    "    return process_video(video_path=video_file,\n",
    "                        detector=detector,\n",
    "                        dino_box_thresholds=box_thresholds,\n",
    "                        dino_text_thresholds=text_thresholds,\n",
    "                        yolo_confidence=confidence,\n",
    "                        yolo_iou_threshold=iou_threshold,\n",
    "                        frame_len=frame_len,\n",
    "                        frame_stride=frame_stride,\n",
    "                        gif_duration=gif_duration)"
   ]
  },
  {
   "cell_type": "code",
   "execution_count": null,
   "metadata": {},
   "outputs": [
    {
     "name": "stdout",
     "output_type": "stream",
     "text": [
      "* Running on local URL:  http://127.0.0.1:7860\n",
      "* Running on public URL: https://07c73e09fbeb4a4694.gradio.live\n",
      "\n",
      "This share link expires in 72 hours. For free permanent hosting and GPU upgrades, run `gradio deploy` from the terminal in the working directory to deploy to Hugging Face Spaces (https://huggingface.co/spaces)\n"
     ]
    },
    {
     "data": {
      "text/html": [
       "<div><iframe src=\"https://07c73e09fbeb4a4694.gradio.live\" width=\"100%\" height=\"500\" allow=\"autoplay; camera; microphone; clipboard-read; clipboard-write;\" frameborder=\"0\" allowfullscreen></iframe></div>"
      ],
      "text/plain": [
       "<IPython.core.display.HTML object>"
      ]
     },
     "metadata": {},
     "output_type": "display_data"
    },
    {
     "data": {
      "text/plain": []
     },
     "execution_count": 3,
     "metadata": {},
     "output_type": "execute_result"
    },
    {
     "name": "stdout",
     "output_type": "stream",
     "text": [
      "Extracted 648 frames to 'output_video_frames'.\n",
      "using device: cuda\n",
      "Object detection of starting frame using YOLO\n",
      "API Key Loaded: gw1XihSRxs3uvHsGIKUc\n"
     ]
    },
    {
     "name": "stderr",
     "output_type": "stream",
     "text": [
      "UserWarning: Specified provider 'CUDAExecutionProvider' is not in available provider names.Available providers: 'AzureExecutionProvider, CPUExecutionProvider'\n",
      "UserWarning: Specified provider 'OpenVINOExecutionProvider' is not in available provider names.Available providers: 'AzureExecutionProvider, CPUExecutionProvider'\n",
      "UserWarning: Specified provider 'CoreMLExecutionProvider' is not in available provider names.Available providers: 'AzureExecutionProvider, CPUExecutionProvider'\n"
     ]
    },
    {
     "name": "stdout",
     "output_type": "stream",
     "text": [
      "Counter({'player': 5, 'referee': 1})\n",
      "Counter({'player': 4, 'referee': 1})\n",
      "Counter({'player': 6, 'referee': 1})\n",
      "Counter({'player': 6, 'referee': 1})\n",
      "Counter({'player': 6, 'referee': 1})\n",
      "Counter({'player': 5, 'referee': 1})\n",
      "Counter({'player': 2, 'referee': 1})\n",
      "Counter({'player': 4, 'referee': 1})\n",
      "Counter({'player': 4, 'referee': 1})\n",
      "Counter({'player': 3, 'referee': 1})\n",
      "Counter({'player': 3, 'referee': 1})\n",
      "Counter({'player': 4, 'referee': 1})\n",
      "Counter({'player': 3, 'referee': 1})\n",
      "Counter({'player': 4, 'referee': 1})\n",
      "Counter({'player': 4, 'referee': 1})\n",
      "Counter({'player': 5, 'referee': 1})\n",
      "Counter({'player': 4, 'referee': 1})\n",
      "Counter({'player': 4, 'referee': 1})\n",
      "Counter({'player': 5, 'referee': 1})\n",
      "Counter({'player': 2, 'referee': 1})\n",
      "Counter({'player': 4, 'referee': 1})\n",
      "Counter({'player': 4, 'referee': 2})\n",
      "Counter({'player': 3, 'referee': 2})\n",
      "Counter({'player': 3, 'referee': 2})\n",
      "Counter({'player': 4, 'referee': 1})\n",
      "Counter({'player': 4, 'referee': 1})\n",
      "Counter({'player': 5, 'referee': 1})\n",
      "Counter({'player': 5, 'referee': 2})\n",
      "Counter({'player': 3, 'referee': 3})\n",
      "Counter({'player': 4, 'referee': 2})\n",
      "Counter({'player': 4, 'referee': 3})\n",
      "Counter({'player': 4, 'referee': 3})\n",
      "Counter({'referee': 3, 'player': 3})\n",
      "Counter({'referee': 3, 'player': 3})\n",
      "Counter({'player': 4, 'referee': 2})\n",
      "Counter({'player': 5, 'referee': 2})\n",
      "Counter({'player': 4, 'referee': 2})\n",
      "Counter({'player': 3, 'referee': 2})\n",
      "Counter({'player': 3, 'referee': 2})\n",
      "Counter({'player': 4, 'referee': 2})\n",
      "Counter({'player': 6, 'referee': 2})\n",
      "Counter({'player': 5, 'referee': 3})\n",
      "Counter({'player': 7, 'referee': 2})\n",
      "Counter({'player': 6, 'referee': 1})\n",
      "Counter({'player': 6, 'referee': 1})\n",
      "Counter({'player': 6, 'referee': 1})\n",
      "Counter({'player': 6, 'referee': 1})\n",
      "Counter({'player': 6, 'referee': 1})\n",
      "Counter({'player': 6, 'referee': 1})\n",
      "Counter({'player': 6, 'referee': 1})\n",
      "Counter({'player': 5, 'referee': 1})\n",
      "Counter({'player': 5, 'referee': 1})\n",
      "Counter({'player': 5, 'referee': 1})\n",
      "Counter({'player': 5, 'referee': 2})\n",
      "Counter({'player': 5, 'referee': 2})\n",
      "Counter({'player': 5, 'referee': 2})\n",
      "Counter({'player': 6, 'referee': 1})\n",
      "Counter({'player': 6, 'referee': 1})\n",
      "Counter({'player': 7, 'referee': 1})\n",
      "Counter({'player': 6, 'referee': 1})\n",
      "Counter({'player': 6, 'referee': 1})\n",
      "Counter({'player': 6, 'referee': 1})\n",
      "Counter({'player': 6, 'referee': 1})\n",
      "Counter({'player': 6, 'referee': 1})\n",
      "Counter({'player': 6, 'referee': 1})\n",
      "Counter({'player': 6, 'referee': 1})\n",
      "Counter({'player': 6, 'referee': 1})\n",
      "Counter({'player': 7, 'referee': 1})\n",
      "Counter({'player': 7, 'referee': 1})\n",
      "Counter({'player': 7, 'referee': 1})\n",
      "Counter({'player': 7, 'referee': 1})\n",
      "Counter({'player': 7, 'referee': 1})\n",
      "Counter({'player': 5, 'referee': 1})\n",
      "Counter({'player': 6, 'referee': 1})\n",
      "Counter({'player': 7, 'referee': 1})\n",
      "Counter({'player': 7, 'referee': 2})\n",
      "Counter({'player': 6, 'referee': 2})\n",
      "Counter({'player': 6, 'referee': 2})\n",
      "Counter({'player': 6, 'referee': 2})\n",
      "Counter({'player': 6, 'referee': 2})\n",
      "Counter({'player': 5, 'referee': 2})\n",
      "Counter({'player': 5, 'referee': 2})\n",
      "Counter({'player': 4, 'referee': 2})\n",
      "Counter({'player': 5, 'referee': 2})\n",
      "Counter({'player': 5, 'referee': 2})\n",
      "Counter({'player': 5, 'referee': 2})\n",
      "Counter({'player': 5, 'referee': 2})\n",
      "Counter({'player': 5, 'referee': 2})\n",
      "Counter({'player': 5, 'referee': 2})\n",
      "Counter({'player': 4, 'referee': 2})\n",
      "Counter({'player': 4, 'referee': 2})\n",
      "Counter({'player': 4, 'referee': 3})\n",
      "Counter({'player': 5, 'referee': 2})\n",
      "Counter({'player': 5, 'referee': 3})\n",
      "Counter({'player': 5, 'referee': 3})\n",
      "Counter({'player': 5, 'referee': 3})\n",
      "Counter({'player': 5, 'referee': 3})\n",
      "Counter({'player': 5, 'referee': 3})\n",
      "Counter({'player': 5, 'referee': 2})\n",
      "Counter({'player': 4, 'referee': 2})\n",
      "Counter({'player': 4, 'referee': 2})\n",
      "Counter({'player': 4, 'referee': 2})\n",
      "Counter({'player': 4, 'referee': 2})\n",
      "Counter({'player': 4, 'referee': 2})\n",
      "Counter({'player': 4, 'referee': 2, 'basketball': 1})\n"
     ]
    },
    {
     "name": "stderr",
     "output_type": "stream",
     "text": [
      "UserWarning: FigureCanvasAgg is non-interactive, and thus cannot be shown\n"
     ]
    },
    {
     "name": "stdout",
     "output_type": "stream",
     "text": [
      "Loading SAM2\n",
      "Initializing SAM2\n"
     ]
    },
    {
     "name": "stderr",
     "output_type": "stream",
     "text": [
      "propagate in video:   0%|          | 0/100 [00:00<?, ?it/s]UserWarning: Memory efficient kernel not used because: (Triggered internally at C:\\cb\\pytorch_1000000000000\\work\\aten\\src\\ATen\\native\\transformers\\cuda\\sdp_utils.cpp:773.)\n",
      "UserWarning: Memory Efficient attention has been runtime disabled. (Triggered internally at C:\\cb\\pytorch_1000000000000\\work\\aten\\src\\ATen/native/transformers/sdp_utils_cpp.h:558.)\n",
      "UserWarning: Flash attention kernel not used because: (Triggered internally at C:\\cb\\pytorch_1000000000000\\work\\aten\\src\\ATen\\native\\transformers\\cuda\\sdp_utils.cpp:775.)\n",
      "UserWarning: Torch was not compiled with flash attention. (Triggered internally at C:\\cb\\pytorch_1000000000000\\work\\aten\\src\\ATen\\native\\transformers\\cuda\\sdp_utils.cpp:599.)\n",
      "UserWarning: CuDNN attention kernel not used because: (Triggered internally at C:\\cb\\pytorch_1000000000000\\work\\aten\\src\\ATen\\native\\transformers\\cuda\\sdp_utils.cpp:777.)\n",
      "UserWarning: head_dim should be no more than 128 (Triggered internally at C:\\cb\\pytorch_1000000000000\\work\\aten\\src\\ATen\\native\\transformers\\cuda\\sdp_utils.cpp:381.)\n",
      "UserWarning: Flash Attention kernel failed due to: No available kernel. Aborting execution.\n",
      "Falling back to all available kernels for scaled_dot_product_attention (which may have a slower speed).\n",
      "propagate in video: 100%|██████████| 100/100 [00:49<00:00,  2.03it/s]\n"
     ]
    },
    {
     "name": "stdout",
     "output_type": "stream",
     "text": [
      "Saving annotations\n",
      "Saving segmented frames\n"
     ]
    },
    {
     "name": "stderr",
     "output_type": "stream",
     "text": [
      "100%|██████████| 100/100 [00:36<00:00,  2.72it/s]\n"
     ]
    },
    {
     "name": "stdout",
     "output_type": "stream",
     "text": [
      "Creating video and gif\n",
      "Video saved to output\\output.mp4\n",
      "Extracted 648 frames to 'output_video_frames'.\n",
      "using device: cuda\n",
      "Object detection of starting frame using Grounding DINO\n",
      "['player. referee.', 'basketball.']\n",
      "Counter({'player': 10, 'referee': 1})\n",
      "Counter({'player': 14, 'referee': 1})\n",
      "Counter({'player': 23, 'referee': 1})\n",
      "Counter({'player': 15, 'referee': 2, 'basketball': 1})\n",
      "Loading SAM2\n",
      "Initializing SAM2\n"
     ]
    },
    {
     "name": "stderr",
     "output_type": "stream",
     "text": [
      "propagate in video: 100%|██████████| 100/100 [02:06<00:00,  1.26s/it]\n"
     ]
    },
    {
     "name": "stdout",
     "output_type": "stream",
     "text": [
      "Saving annotations\n",
      "Saving segmented frames\n"
     ]
    },
    {
     "name": "stderr",
     "output_type": "stream",
     "text": [
      "100%|██████████| 100/100 [01:24<00:00,  1.18it/s]\n"
     ]
    },
    {
     "name": "stdout",
     "output_type": "stream",
     "text": [
      "Creating video and gif\n",
      "Video saved to output\\output.mp4\n"
     ]
    }
   ],
   "source": [
    "iface = gr.Interface(\n",
    "    fn=gradio_process_video,\n",
    "    inputs=[\n",
    "        gr.Video(label=\"Upload Video\"),\n",
    "        gr.Radio(choices=[\"Grounding DINO\", \"YOLO\"], label=\"Choose a detector\"),\n",
    "        gr.Slider(0, 1, value=0.35, step=0.05, label=\"Box Threshold (DINO): Player/Referee\"),\n",
    "        gr.Slider(0, 1, value=0.35, step=0.05, label=\"Box Threshold (DINO): Basketball\"),\n",
    "        gr.Slider(0, 1, value=0.35, step=0.05, label=\"Text Threshold (DINO): Player/Referee\"),\n",
    "        gr.Slider(0, 1, value=0.35, step=0.05, label=\"Text Threshold (DINO): Basketball\"),\n",
    "        gr.Slider(0, 1, value=0.4, step=0.05, label=\"Confidence (YOLO)\"),\n",
    "        gr.Slider(0, 1, value=0.8, step=0.05, label=\"IOU Threshold (YOLO)\"),\n",
    "        gr.Slider(1, 500, value=100, step=1, label=\"Frame Length\"),\n",
    "        gr.Slider(1, 50, value=3, step=1, label=\"Frame Stride\"),\n",
    "        gr.Slider(1, 500, value=100, step=1, label=\"GIF Duration\"),\n",
    "    ],\n",
    "    outputs=gr.Image(type=\"filepath\"),\n",
    "    title=\"Segment Video\",\n",
    "    description=\"Upload a video and get back a segmented GIF.\",\n",
    ")\n",
    "\n",
    "iface.launch(share=True)\n"
   ]
  }
 ],
 "metadata": {
  "kernelspec": {
   "display_name": "cis581_samdino",
   "language": "python",
   "name": "python3"
  },
  "language_info": {
   "codemirror_mode": {
    "name": "ipython",
    "version": 3
   },
   "file_extension": ".py",
   "mimetype": "text/x-python",
   "name": "python",
   "nbconvert_exporter": "python",
   "pygments_lexer": "ipython3",
   "version": "3.11.10"
  }
 },
 "nbformat": 4,
 "nbformat_minor": 2
}
