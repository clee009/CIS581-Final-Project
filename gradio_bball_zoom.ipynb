{
 "cells": [
  {
   "cell_type": "code",
   "execution_count": 1,
   "metadata": {},
   "outputs": [
    {
     "data": {
      "text/html": [
       "<pre style=\"white-space:pre;overflow-x:auto;line-height:normal;font-family:Menlo,'DejaVu Sans Mono',consolas,'Courier New',monospace\"><span style=\"color: #7fbfbf; text-decoration-color: #7fbfbf\">[12/10/24 10:47:47] </span><span style=\"color: #800000; text-decoration-color: #800000\">WARNING </span> Your inference package version <span style=\"color: #008080; text-decoration-color: #008080; font-weight: bold\">0.29</span>.<span style=\"color: #008080; text-decoration-color: #008080; font-weight: bold\">1</span> is out of date! Please upgrade to <a href=\"file://c:\\Users\\chris\\anaconda3\\envs\\cis581_samdino\\Lib\\site-packages\\inference\\core\\__init__.py\" target=\"_blank\"><span style=\"color: #7f7f7f; text-decoration-color: #7f7f7f\">__init__.py</span></a><span style=\"color: #7f7f7f; text-decoration-color: #7f7f7f\">:</span><a href=\"file://c:\\Users\\chris\\anaconda3\\envs\\cis581_samdino\\Lib\\site-packages\\inference\\core\\__init__.py#41\" target=\"_blank\"><span style=\"color: #7f7f7f; text-decoration-color: #7f7f7f\">41</span></a>\n",
       "<span style=\"color: #7fbfbf; text-decoration-color: #7fbfbf\">                    </span>         version <span style=\"color: #008080; text-decoration-color: #008080; font-weight: bold\">0.29</span>.<span style=\"color: #008080; text-decoration-color: #008080; font-weight: bold\">2</span> of inference for the latest features and bug fixes by    <span style=\"color: #7f7f7f; text-decoration-color: #7f7f7f\">              </span>\n",
       "<span style=\"color: #7fbfbf; text-decoration-color: #7fbfbf\">                    </span>         running `pip install --upgrade inference`.                              <span style=\"color: #7f7f7f; text-decoration-color: #7f7f7f\">              </span>\n",
       "</pre>\n"
      ],
      "text/plain": [
       "\u001b[2;36m[12/10/24 10:47:47]\u001b[0m\u001b[2;36m \u001b[0m\u001b[31mWARNING \u001b[0m Your inference package version \u001b[1;36m0.29\u001b[0m.\u001b[1;36m1\u001b[0m is out of date! Please upgrade to \u001b]8;id=76930;file://c:\\Users\\chris\\anaconda3\\envs\\cis581_samdino\\Lib\\site-packages\\inference\\core\\__init__.py\u001b\\\u001b[2m__init__.py\u001b[0m\u001b]8;;\u001b\\\u001b[2m:\u001b[0m\u001b]8;id=691695;file://c:\\Users\\chris\\anaconda3\\envs\\cis581_samdino\\Lib\\site-packages\\inference\\core\\__init__.py#41\u001b\\\u001b[2m41\u001b[0m\u001b]8;;\u001b\\\n",
       "\u001b[2;36m                    \u001b[0m         version \u001b[1;36m0.29\u001b[0m.\u001b[1;36m2\u001b[0m of inference for the latest features and bug fixes by    \u001b[2m              \u001b[0m\n",
       "\u001b[2;36m                    \u001b[0m         running `pip install --upgrade inference`.                              \u001b[2m              \u001b[0m\n"
      ]
     },
     "metadata": {},
     "output_type": "display_data"
    }
   ],
   "source": [
    "import gradio as gr\n",
    "from obj_detect import process_video\n",
    "from zoom import zoom_save_gif"
   ]
  },
  {
   "cell_type": "code",
   "execution_count": 2,
   "metadata": {},
   "outputs": [],
   "source": [
    "# Function to process the input list\n",
    "def process_list(input_text):\n",
    "    # Split input by commas and strip whitespace\n",
    "    string_list = [item.strip() for item in input_text.split(\",\") if item.strip()]\n",
    "    return string_list"
   ]
  },
  {
   "cell_type": "code",
   "execution_count": 3,
   "metadata": {},
   "outputs": [],
   "source": [
    "def gradio_process_video(video_file, detector, \n",
    "                         box_threshold_1, box_threshold_2, \n",
    "                         text_threshold_1, text_threshold_2, \n",
    "                         confidence_1, confidence_2, \n",
    "                         iou_1, iou_2, \n",
    "                         frame_len, frame_stride, gif_duration,\n",
    "                         use_prior_data, use_pose, out_file, fps, \n",
    "                         selected_ids, selected_labels, nearest_to_ball,\n",
    "                         x_padding, y_padding, x_interp, y_interp, zoom_interp):\n",
    "    box_threshold = [box_threshold_1, box_threshold_2]\n",
    "    text_threshold = [text_threshold_1, text_threshold_2]\n",
    "    yolo_confidence = [confidence_1, confidence_2]\n",
    "    yolo_iou_threhold = [iou_1, iou_2]\n",
    "\n",
    "    if not use_prior_data:\n",
    "        process_video(video_path=video_file,\n",
    "                    detector=detector,\n",
    "                    dino_box_threshold=box_threshold,\n",
    "                    dino_text_threshold=text_threshold,\n",
    "                    yolo_confidence=yolo_confidence,\n",
    "                    yolo_iou_threshold=yolo_iou_threhold,\n",
    "                    frame_len=frame_len,\n",
    "                    frame_stride=frame_stride,\n",
    "                    gif_duration=gif_duration)\n",
    "        \n",
    "    if use_pose and not use_prior_data:\n",
    "        # TODO: ZiYan's pose part\n",
    "        ...\n",
    "\n",
    "    selected_ids = process_list(selected_ids)\n",
    "    selected_labels = process_list(selected_labels)\n",
    "    \n",
    "    return zoom_save_gif(out_file, use_pose, fps, selected_ids, selected_labels, nearest_to_ball,\n",
    "                         x_padding, y_padding, x_interp, y_interp, zoom_interp)"
   ]
  },
  {
   "cell_type": "code",
   "execution_count": 4,
   "metadata": {},
   "outputs": [],
   "source": [
    "def update_inputs(detector):\n",
    "    if detector == \"Grounding DINO\":\n",
    "        # Show DINO sliders, hide YOLO sliders\n",
    "        return [gr.update(visible=True), gr.update(visible=False)]\n",
    "    else:\n",
    "        # Show YOLO sliders, hide DINO sliders\n",
    "        return [gr.update(visible=False), gr.update(visible=True)]"
   ]
  },
  {
   "cell_type": "code",
   "execution_count": 5,
   "metadata": {},
   "outputs": [
    {
     "name": "stdout",
     "output_type": "stream",
     "text": [
      "* Running on local URL:  http://127.0.0.1:7860\n",
      "* Running on public URL: https://bd79d9bd0b41928c46.gradio.live\n",
      "\n",
      "This share link expires in 72 hours. For free permanent hosting and GPU upgrades, run `gradio deploy` from the terminal in the working directory to deploy to Hugging Face Spaces (https://huggingface.co/spaces)\n"
     ]
    },
    {
     "data": {
      "text/html": [
       "<div><iframe src=\"https://bd79d9bd0b41928c46.gradio.live\" width=\"100%\" height=\"500\" allow=\"autoplay; camera; microphone; clipboard-read; clipboard-write;\" frameborder=\"0\" allowfullscreen></iframe></div>"
      ],
      "text/plain": [
       "<IPython.core.display.HTML object>"
      ]
     },
     "metadata": {},
     "output_type": "display_data"
    },
    {
     "data": {
      "text/plain": []
     },
     "execution_count": 5,
     "metadata": {},
     "output_type": "execute_result"
    }
   ],
   "source": [
    "with gr.Blocks(title=\"Autozoom Basketball Game\") as demo:\n",
    "    with gr.Row():\n",
    "        with gr.Column(scale=1):  # Left half for inputs\n",
    "            video_file = gr.Video(label=\"Upload Video\")\n",
    "            detector = gr.Radio(choices=[\"Grounding DINO\", \"YOLO\"], label=\"Choose a detector\")\n",
    "\n",
    "            with gr.Group(visible=False) as dino_sliders:\n",
    "                box_threshold_1 = gr.Slider(0, 1, value=0.35, step=0.05, label=\"Box Threshold (DINO): Player/Referee\")\n",
    "                box_threshold_2 = gr.Slider(0, 1, value=0.35, step=0.05, label=\"Box Threshold (DINO): Basketball\")\n",
    "                text_threshold_1 = gr.Slider(0, 1, value=0.35, step=0.05, label=\"Text Threshold (DINO): Player/Referee\")\n",
    "                text_threshold_2 = gr.Slider(0, 1, value=0.35, step=0.05, label=\"Text Threshold (DINO): Basketball\")\n",
    "\n",
    "            with gr.Group(visible=False) as yolo_sliders:\n",
    "                confidence_1 = gr.Slider(0, 1, value=0.3, step=0.05, label=\"Confidence (YOLO): Player/Referee\")\n",
    "                confidence_2 = gr.Slider(0, 1, value=0.75, step=0.05, label=\"Confidence (YOLO): Basketball\")\n",
    "                iou_1 = gr.Slider(0, 1, value=0.7, step=0.05, label=\"IOU Threshold (YOLO): Player/Referee\")\n",
    "                iou_2 = gr.Slider(0, 1, value=0.5, step=0.05, label=\"IOU Threshold (YOLO): Basketball\")\n",
    "\n",
    "            frame_len = gr.Slider(1, 500, value=100, step=1, label=\"Frame Length\")\n",
    "            frame_stride = gr.Slider(1, 50, value=3, step=1, label=\"Frame Stride\")\n",
    "            gif_duration = gr.Slider(1, 500, value=100, step=1, label=\"GIF Duration\")\n",
    "            use_prior_data = gr.Checkbox(label=\"Use Previous Data\")\n",
    "            use_pose = gr.Checkbox(label=\"Use Pose Data\")\n",
    "            out_file = gr.Textbox(value=\"zoomed.gif\", placeholder=\"Out Filename\")\n",
    "            fps = gr.Slider(1, 60, value=12, step=1, label=\"FPS\")\n",
    "            selected_ids = gr.Textbox(placeholder=\"IDs Targeted (seperated by commas)\")\n",
    "            selected_labels = gr.Textbox(value=\"basketball\", placeholder=\"Labels Targeted (seperated by commas)\")\n",
    "            nearest_to_ball = gr.Slider(0, 10, value=3, step=1, label=\"Closest to Ball\")\n",
    "            x_padding = gr.Slider(1, 100, value=20, step=1, label=\"X Padding\")\n",
    "            y_padding = gr.Slider(1, 100, value=20, step=1, label=\"Y Padding\")\n",
    "            x_interp = gr.Slider(0, 1, value=0.5, step=0.05, label=\"X Interpolation\")\n",
    "            y_interp = gr.Slider(0, 1, value=0.5, step=0.05, label=\"Y Interpolation\")\n",
    "            zoom_interp = gr.Slider(0, 1, value=0.5, step=0.05, label=\"Zoom Interpolation\")\n",
    "\n",
    "            submit = gr.Button(\"Process\")\n",
    "        \n",
    "        with gr.Column(scale=1):  # Right half for outputs\n",
    "            output = gr.Image(type=\"filepath\", label=\"Output\")\n",
    "\n",
    "    # Adjust outputs: first dino_sliders group, then yolo_sliders group\n",
    "    detector.change(\n",
    "        update_inputs,\n",
    "        inputs=[detector],\n",
    "        outputs=[dino_sliders, yolo_sliders]\n",
    "    )\n",
    "\n",
    "    # Submit button action\n",
    "    submit.click(\n",
    "        gradio_process_video,\n",
    "        inputs=[video_file, detector, \n",
    "                box_threshold_1, box_threshold_2, \n",
    "                text_threshold_1, text_threshold_2, \n",
    "                confidence_1, confidence_2, \n",
    "                iou_1, iou_2, \n",
    "                frame_len, frame_stride, gif_duration,\n",
    "                use_prior_data, use_pose, out_file, fps, \n",
    "                selected_ids, selected_labels, nearest_to_ball,\n",
    "                x_padding, y_padding, x_interp, y_interp, zoom_interp],\n",
    "        outputs=output\n",
    "    )\n",
    "\n",
    "demo.launch(share=True)"
   ]
  },
  {
   "cell_type": "code",
   "execution_count": null,
   "metadata": {},
   "outputs": [],
   "source": []
  }
 ],
 "metadata": {
  "kernelspec": {
   "display_name": "cis581_samdino",
   "language": "python",
   "name": "python3"
  },
  "language_info": {
   "codemirror_mode": {
    "name": "ipython",
    "version": 3
   },
   "file_extension": ".py",
   "mimetype": "text/x-python",
   "name": "python",
   "nbconvert_exporter": "python",
   "pygments_lexer": "ipython3",
   "version": "3.11.10"
  }
 },
 "nbformat": 4,
 "nbformat_minor": 2
}
